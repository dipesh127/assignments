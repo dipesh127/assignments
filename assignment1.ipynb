{
 "cells": [
  {
   "cell_type": "code",
   "execution_count": null,
   "id": "dc5d3ae5-131c-4406-b27d-a3d5c52b23b6",
   "metadata": {},
   "outputs": [],
   "source": [
    "Q1=  Guido van Rossum."
   ]
  },
  {
   "cell_type": "code",
   "execution_count": 2,
   "id": "90852062-01ab-4d5b-a75e-68581108ca56",
   "metadata": {},
   "outputs": [],
   "source": [
    "#Q2=Python is a multi-paradigm programming language which supports Object-oriented programming and structured programming ."
   ]
  },
  {
   "cell_type": "code",
   "execution_count": 3,
   "id": "5e641e40-a1d6-4803-9291-05d363ec86b6",
   "metadata": {},
   "outputs": [],
   "source": [
    "#Q3= yes python is a case sensative language with identifiers."
   ]
  },
  {
   "cell_type": "code",
   "execution_count": 4,
   "id": "c3a05ac3-76d1-4fcc-aa51-f5fde7b22527",
   "metadata": {},
   "outputs": [],
   "source": [
    "#Q4= the correct python extention is .py"
   ]
  },
  {
   "cell_type": "code",
   "execution_count": 5,
   "id": "111dfb89-82e5-4a6b-a3bd-d703508a1768",
   "metadata": {},
   "outputs": [],
   "source": [
    "#Q5= python is intereperted."
   ]
  },
  {
   "cell_type": "code",
   "execution_count": 6,
   "id": "36774dee-b2bd-4cc3-be4d-ffdf5009c204",
   "metadata": {},
   "outputs": [],
   "source": [
    "#Q6= The following are blocks of codes used to define a python pogram: a module, a function body, and a class definition."
   ]
  },
  {
   "cell_type": "code",
   "execution_count": 7,
   "id": "a8812bac-4290-4f54-944d-94cc9166bebc",
   "metadata": {},
   "outputs": [],
   "source": [
    "#Q7= # symbole is used for single line command."
   ]
  },
  {
   "cell_type": "code",
   "execution_count": 8,
   "id": "0182f333-de74-41dc-9e18-5f98749754dc",
   "metadata": {},
   "outputs": [],
   "source": [
    "#Q8= sys. version function "
   ]
  },
  {
   "cell_type": "code",
   "execution_count": 9,
   "id": "afd618ea-383d-40ea-8c5d-4c059e6d41dd",
   "metadata": {},
   "outputs": [],
   "source": [
    "#Q9= lambda"
   ]
  },
  {
   "cell_type": "code",
   "execution_count": 10,
   "id": "39249cd9-96e5-411e-b52a-94467fa26d7b",
   "metadata": {},
   "outputs": [],
   "source": [
    "#Q10= performance improvement plan"
   ]
  },
  {
   "cell_type": "code",
   "execution_count": 11,
   "id": "a48a0c90-e33d-42b3-aa00-e31216b065ed",
   "metadata": {},
   "outputs": [],
   "source": [
    "#Q11= list(), int(), str(),len(),bool(),sum()."
   ]
  },
  {
   "cell_type": "code",
   "execution_count": 12,
   "id": "c5e5d0a4-55b7-4200-86ed-619dc046251a",
   "metadata": {},
   "outputs": [],
   "source": [
    "#Q12= 79 charaters"
   ]
  },
  {
   "cell_type": "code",
   "execution_count": 13,
   "id": "4509c66c-2af2-4fad-996e-96ca599592ed",
   "metadata": {},
   "outputs": [
    {
     "data": {
      "text/plain": [
       "'Q13= the benifits of using pythos are as:\\n            1.Data science.\\n            2.Scientific and mathematical computing.\\n            3.Web development.\\n            4.Finance and trading.\\n            5.System automation and administration.\\n            6.Computer graphics.\\n            7.Basic game development.'"
      ]
     },
     "execution_count": 13,
     "metadata": {},
     "output_type": "execute_result"
    }
   ],
   "source": [
    "'''Q13= the benifits of using pythos are as:\n",
    "            1.Data science.\n",
    "            2.Scientific and mathematical computing.\n",
    "            3.Web development.\n",
    "            4.Finance and trading.\n",
    "            5.System automation and administration.\n",
    "            6.Computer graphics.\n",
    "            7.Basic game development.'''"
   ]
  },
  {
   "cell_type": "code",
   "execution_count": 14,
   "id": "fd46b1bc-67c6-4b65-8f3a-b15e2170b77e",
   "metadata": {},
   "outputs": [
    {
     "data": {
      "text/plain": [
       "'Q14= Memory management in Python involves the management of a private heap. A private heap is a portion of memory that is\\nexclusive to the Python process. All Python objects and data structures are stored in the private heap. The operating \\nsystem cannot allocate this piece of memory to another process.'"
      ]
     },
     "execution_count": 14,
     "metadata": {},
     "output_type": "execute_result"
    }
   ],
   "source": [
    "'''Q14= Memory management in Python involves the management of a private heap. A private heap is a portion of memory that is\n",
    "exclusive to the Python process. All Python objects and data structures are stored in the private heap. The operating \n",
    "system cannot allocate this piece of memory to another process.'''"
   ]
  },
  {
   "cell_type": "code",
   "execution_count": null,
   "id": "13b1d343-d301-42a5-9286-cfeef5153e21",
   "metadata": {},
   "outputs": [],
   "source": [
    "#Q15= For Installation:\n",
    "            1.Open a browser to the Python website and download the Windows installer. \n",
    "            2. Double click on the downloaded file and install Python for all users, and ensure\n",
    "                that Python is added to your path. \n",
    "            3.Click on Install now to begin.\n",
    "            \n",
    "    to set path variable:\n",
    "            1.Right click on My Computer and click on properties.\n",
    "            2.Click on Advanced System settings.\n",
    "            3.Click on Environment Variable tab.\n",
    "            4.Click on new tab of user variables.\n",
    "            5.Write path in variable name.\n",
    "            6.Copy the path of Python folder.\n",
    "            7.Paste path of Python in variable value and Click on Ok button then Click on Ok button."
   ]
  }
 ],
 "metadata": {
  "kernelspec": {
   "display_name": "Python 3 (ipykernel)",
   "language": "python",
   "name": "python3"
  },
  "language_info": {
   "codemirror_mode": {
    "name": "ipython",
    "version": 3
   },
   "file_extension": ".py",
   "mimetype": "text/x-python",
   "name": "python",
   "nbconvert_exporter": "python",
   "pygments_lexer": "ipython3",
   "version": "3.10.8"
  }
 },
 "nbformat": 4,
 "nbformat_minor": 5
}
