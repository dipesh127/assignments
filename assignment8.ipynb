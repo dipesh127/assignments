{
 "cells": [
  {
   "cell_type": "code",
   "execution_count": 95,
   "id": "f3da0eda-82ce-4092-b213-cbdd9a640310",
   "metadata": {},
   "outputs": [
    {
     "name": "stdin",
     "output_type": "stream",
     "text": [
      "enter a password diPes@#$1H\n"
     ]
    },
    {
     "name": "stdout",
     "output_type": "stream",
     "text": [
      "Valid Password\n"
     ]
    }
   ],
   "source": [
    "#Q1=\n",
    "import re\n",
    "password=input(\"enter a password\")\n",
    "\n",
    "\n",
    "# for checking if the string contain 2=upper char, 2 lower char, 3 specail char, length more then 10\n",
    "def password_check(password):\n",
    "    spe_char_num=0\n",
    "    # special characters\n",
    "    special_char = re.compile('[@_!#$%^&*()<>?/\\|}{~:]')\n",
    "    # check for upper charaters \n",
    "    upper_letter=[i for i in password if i.isupper()==1]\n",
    "    num_upper=len(upper_letter)\n",
    "    # check for lower charters \n",
    "    lower_letter=[i for i in password if i.islower()==1]\n",
    "    num_lower=len(lower_letter)\n",
    "    # check for numbers\n",
    "    number_letter=[i for i in password if i.isnumeric()==1]\n",
    "    num_number=len(numeber_letter)\n",
    "    # check string contains special characters or not\n",
    "    for i in password:\n",
    "        if(special_char.search(i) == None):\n",
    "              continue\n",
    "        else:\n",
    "              spe_char_num=spe_char_num+1   \n",
    "    #for checking the conditons\n",
    "    if len(password)>=10 and num_upper>=2 and num_lower>=2 and num_number>=1 and spe_char_num>=3:\n",
    "          print(\"Valid Password\")\n",
    "    else:\n",
    "          print(\"Invalid Password\")\n",
    "\n",
    "\n",
    "    \n",
    "    \n",
    "\n",
    "password_check(password)\n",
    "\n",
    "\n",
    "\n",
    "        \n"
   ]
  },
  {
   "cell_type": "code",
   "execution_count": 106,
   "id": "8bc2ba80-acd7-4add-b033-d876f3bb3eb2",
   "metadata": {},
   "outputs": [
    {
     "name": "stdout",
     "output_type": "stream",
     "text": [
      "starts with a\n",
      "['a']\n"
     ]
    }
   ],
   "source": [
    "#Q2=\n",
    "# to check if the string starts with a particualr letter .\n",
    "y=\"adipesh\"\n",
    "letter=list(filter(lambda x:x[0]=='a' or x[0]=='A',y))\n",
    "if letter[0]=='a':\n",
    "    print(\"starts with a\")\n",
    "else:\n",
    "    print(\"doesnot starts with a\")\n",
    "print(letter)"
   ]
  },
  {
   "cell_type": "code",
   "execution_count": 145,
   "id": "5b7b7ddc-3028-449c-938f-af4f528684ed",
   "metadata": {},
   "outputs": [
    {
     "name": "stdout",
     "output_type": "stream",
     "text": [
      "it is not a numeric string\n",
      "[]\n"
     ]
    }
   ],
   "source": [
    "# to chek the string is a numeric.\n",
    "y=\"dfdf\"\n",
    "num=[x for x in y if y.isnumeric()==1 ]\n",
    "if len(num)>0:\n",
    "    print(\"it is a numeric string\")\n",
    "else:\n",
    "    print(\"it is not a numeric string\")\n",
    "print(num)"
   ]
  },
  {
   "cell_type": "code",
   "execution_count": 159,
   "id": "9c2a862b-5f5c-4c08-afda-9c8619052827",
   "metadata": {},
   "outputs": [
    {
     "name": "stdout",
     "output_type": "stream",
     "text": [
      "[('orange', 80), ('mango', 99), ('grapes', 1000)]\n"
     ]
    }
   ],
   "source": [
    "#sort a list\n",
    "list=[(\"mango\",99),(\"orange\",80),(\"grapes\",1000)]\n",
    "l=[]\n",
    "l=sorted(list, key = lambda x: x[1])\n",
    "print(l)"
   ]
  },
  {
   "cell_type": "code",
   "execution_count": 4,
   "id": "c04aa41e-7293-497b-b63a-260c1834342c",
   "metadata": {},
   "outputs": [
    {
     "name": "stdout",
     "output_type": "stream",
     "text": [
      "[1, 4, 9, 16, 25, 36, 49, 64, 81, 100]\n"
     ]
    }
   ],
   "source": [
    "#find the squares of number 1 to 10\n",
    "  \n",
    "i=range(1,11)\n",
    "result = list(map(lambda x: x * x, i))\n",
    "print(result)"
   ]
  },
  {
   "cell_type": "code",
   "execution_count": 7,
   "id": "b03994e2-c055-4cad-8336-bfafb348154f",
   "metadata": {},
   "outputs": [
    {
     "name": "stdout",
     "output_type": "stream",
     "text": [
      "[1, 8, 27, 64, 125, 216, 343, 512, 729, 1000]\n"
     ]
    }
   ],
   "source": [
    "#find the cube root of numbers from 1 to 10\n",
    "i=range(1,11)\n",
    "result = list(map(lambda x: x *x*x, i))\n",
    "print(result)"
   ]
  },
  {
   "cell_type": "code",
   "execution_count": 21,
   "id": "d8df23e5-f080-418e-b3bd-db640c0fe229",
   "metadata": {},
   "outputs": [
    {
     "name": "stdin",
     "output_type": "stream",
     "text": [
      "enter a number 22\n"
     ]
    },
    {
     "name": "stdout",
     "output_type": "stream",
     "text": [
      "is a even number\n"
     ]
    }
   ],
   "source": [
    "#check if the given number is even\n",
    "a=list(input(\"enter a number\"))\n",
    "b=list(filter(lambda x:int(x)%2==0,a))\n",
    "if len(b)>0:\n",
    "    print(\"is a even number\")\n",
    "else:\n",
    "    print(\"is not a even number\")"
   ]
  },
  {
   "cell_type": "code",
   "execution_count": 22,
   "id": "66d444fd-8742-4ca7-8de8-174dee31241b",
   "metadata": {},
   "outputs": [
    {
     "name": "stdout",
     "output_type": "stream",
     "text": [
      "[1, 3, 5, 7, 9]\n"
     ]
    }
   ],
   "source": [
    "#to filter the odd number \n",
    "l1=[1,2,3,4,5,6,7,8,9,10]\n",
    "b=list(filter(lambda x:x%2 !=0,l1))\n",
    "print(b)"
   ]
  },
  {
   "cell_type": "code",
   "execution_count": 30,
   "id": "1c4c00f3-bae6-4b8d-839f-6c450b19b199",
   "metadata": {},
   "outputs": [
    {
     "name": "stdout",
     "output_type": "stream",
     "text": [
      "list of positive integets: [0, 1, 2, 3, 4, 5, 6]\n",
      "list of negative integets: [-5, -4, -3, -2, -1]\n"
     ]
    }
   ],
   "source": [
    "#sort a list of integers into positive and negative lists.\n",
    "list_int=[1,2,3,4,5,6,-1,-2,-3,-4,-5,0]\n",
    "list_positive=list(filter(lambda x:x>=0,list_int))\n",
    "list_negative=list(filter(lambda x:x<0,list_int))\n",
    "\n",
    "print(\"list of positive integets:\",sorted(list_positive))\n",
    "print(\"list of negative integets:\",sorted(list_negative))\n",
    "\n"
   ]
  },
  {
   "cell_type": "code",
   "execution_count": null,
   "id": "60afe69f-f396-4b30-a4ec-d4bfd0e91da7",
   "metadata": {},
   "outputs": [],
   "source": []
  }
 ],
 "metadata": {
  "kernelspec": {
   "display_name": "Python 3 (ipykernel)",
   "language": "python",
   "name": "python3"
  },
  "language_info": {
   "codemirror_mode": {
    "name": "ipython",
    "version": 3
   },
   "file_extension": ".py",
   "mimetype": "text/x-python",
   "name": "python",
   "nbconvert_exporter": "python",
   "pygments_lexer": "ipython3",
   "version": "3.10.8"
  }
 },
 "nbformat": 4,
 "nbformat_minor": 5
}
