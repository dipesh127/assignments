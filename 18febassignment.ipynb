{
 "cells": [
  {
   "cell_type": "code",
   "execution_count": 2,
   "id": "fe95db41-e96b-4f6a-b2ce-a34ddb2c8f80",
   "metadata": {},
   "outputs": [
    {
     "data": {
      "text/plain": [
       "\"\\n    APIs are mechanisms that enable two software components to communicate with each other using a set of definitions \\nand protocols. For example, the weather bureau's software system contains daily weather data. The weather app on your \\nphone “talks” to this system via APIs and shows you daily weather updates on your phone.\""
      ]
     },
     "execution_count": 2,
     "metadata": {},
     "output_type": "execute_result"
    }
   ],
   "source": [
    "#Q1 =\n",
    "'''\n",
    "    APIs are mechanisms that enable two software components to communicate with each other using a set of definitions \n",
    "and protocols. For example, the weather bureau's software system contains daily weather data. The weather app on your \n",
    "phone “talks” to this system via APIs and shows you daily weather updates on your phone.'''"
   ]
  },
  {
   "cell_type": "code",
   "execution_count": 4,
   "id": "7bc8cb98-9303-4f33-b91f-eed2ee17805d",
   "metadata": {},
   "outputs": [],
   "source": [
    "#Q2=\n",
    "\n",
    "# Advantages:\n",
    "\n",
    "# 1.Increased Interoperability: API solutions enable different software systems to communicate with each other,\n",
    "#  regardless of their programming language or platform. This enhances the interoperability between systems, \n",
    "#  allowing for the exchange of data and functionality.\n",
    "# 2.Improved Efficiency: API driven infrastructures enable developers to reuse code and functionality from \n",
    "#  existing software systems, saving time and reducing the amount of code that needs to be written from scratch.\n",
    "# 3.Better User Experience: APIs can enable third-party developers to create applications that integrate with \n",
    "#  existing software systems, providing a better user experience and increased functionality.\n",
    "# 4.Increased Flexibility: APIs provide developers with greater flexibility, enabling them to choose the best \n",
    "#  programming languages and frameworks for their needs.\n",
    "# 5.New Revenue Streams: APIs can enable companies to create new revenue streams by providing third-party \n",
    "#  developers with access to their software systems.\n",
    "\n",
    "\n",
    "# Disadvantages:\n",
    "# 1.Security Concerns: API infrastructures can be vulnerable to security breaches, such as SQL injection \n",
    "#  attacks and cross-site scripting (XSS) attacks, making it crucial to implement security measures to protect\n",
    "#  against these threats.\n",
    "# 2.Complexity: APIs can be complex, requiring a significant amount of development effort to implement and maintain.\n",
    "# 3.Compatibility Issues: APIs can have compatibility issues between different versions of the same software system\n",
    "#  or between different systems, which can lead to errors and system failures.\n",
    "# 4.Dependency on Third-Party Developers: APIs rely on third-party developers to create applications that integrate \n",
    "#  with the software system. This can create dependencies that are outside of the control of the company that owns \n",
    "#  the software system.\n",
    "# 5.Governance and Management: APIs require proper governance and management to ensure they are being used correctly\n",
    "#  and consistently across different applications and systems"
   ]
  },
  {
   "cell_type": "code",
   "execution_count": 5,
   "id": "5fa74423-8f04-465d-aa0f-b8b3eb55f333",
   "metadata": {},
   "outputs": [],
   "source": [
    "#Q3=\n",
    "\n",
    "#  Web API as the name suggests, is an API over the web which can be accessed using HTTP protocol.\n",
    "#  API is an interface that exposes an application's data to outside software, whereas web applications are one type of\n",
    "#  API with stricter requirements. These requirements include network communication, SOAP as the primary protocol, and \n",
    "#  less accessibility for the public."
   ]
  },
  {
   "cell_type": "code",
   "execution_count": 6,
   "id": "065102ec-a656-4993-8069-bb573c6e3d43",
   "metadata": {},
   "outputs": [],
   "source": [
    "# Q4=\n",
    "\n",
    "#  REST is a set of guidelines that offers flexible implementation, whereas SOAP is a protocol with specific \n",
    "#  requirements like XML messaging where it is used for exchange of information in a distributed environment.\n",
    "\n",
    "#  SOAP is used only XML format data in web service, whereas JSON and other lightweight formats are not supported\n",
    "#  by it. It is slow because it uses XML format, whereas the payload for a simple string message is large. There \n",
    "#  are no security features in the SOAP specification"
   ]
  },
  {
   "cell_type": "code",
   "execution_count": 7,
   "id": "89dc95c0-7a54-4904-a3e8-4e8dadc170b1",
   "metadata": {},
   "outputs": [],
   "source": [
    "# Q5=\n",
    "\n",
    "# 1.SOAP is a protocol, whereas REST is an architectural style\n",
    "# 2.REST APIs access a resource for data (a URI); SOAP APIs perform an operation\n",
    "# 3.Security is handled differently.\n",
    "# 4.SOAP requires more bandwidth, whereas REST requires fewer resources (depending on the API)\n",
    "# 5.REST calls can be cached, while SOAP-based calls cannot be cached\n",
    "# 6.APIs are built to handle your app’s payload, and REST and SOAP do this differently\n"
   ]
  },
  {
   "cell_type": "code",
   "execution_count": null,
   "id": "3b3c5b49-e552-4a3f-84ea-29b3b963fe80",
   "metadata": {},
   "outputs": [],
   "source": []
  }
 ],
 "metadata": {
  "kernelspec": {
   "display_name": "Python 3 (ipykernel)",
   "language": "python",
   "name": "python3"
  },
  "language_info": {
   "codemirror_mode": {
    "name": "ipython",
    "version": 3
   },
   "file_extension": ".py",
   "mimetype": "text/x-python",
   "name": "python",
   "nbconvert_exporter": "python",
   "pygments_lexer": "ipython3",
   "version": "3.10.8"
  }
 },
 "nbformat": 4,
 "nbformat_minor": 5
}
