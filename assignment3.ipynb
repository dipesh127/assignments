{
 "cells": [
  {
   "cell_type": "code",
   "execution_count": 1,
   "id": "4e07f05c-4112-4b36-ae42-45137448b40f",
   "metadata": {},
   "outputs": [],
   "source": [
    "# Q1= A \"For\" Loop is used to repeat a specific block of code a known number of times. For example, if we want to check\n",
    "#     the grade of every student in the class, we loop from 1 to that number. \n",
    "\n",
    "#     A \"While\" Loop is used to repeat a specific block of code an unknown number of times, until a condition is met.\n",
    "#     For example, if we want to ask a user for a number between 1 and 10, we don't know how many times the user may \n",
    "#     enter a larger number, so we keep asking \"while the number is not between 1 and 10\""
   ]
  },
  {
   "cell_type": "code",
   "execution_count": 14,
   "id": "e462755a-3345-4394-b4e1-6b4dc305fb88",
   "metadata": {},
   "outputs": [
    {
     "name": "stdout",
     "output_type": "stream",
     "text": [
      "sum of first 10 natural numbers is: 55\n",
      "product of first 10 natural number is : 3628800\n"
     ]
    }
   ],
   "source": [
    "#Q2=\n",
    "sum=0\n",
    "mul=1\n",
    "\n",
    "for i in list(range(1,11,1)):\n",
    "    sum=sum+i\n",
    "    mul=mul*i\n",
    "print(\"sum of first 10 natural numbers is:\",sum)\n",
    "print(\"product of first 10 natural number is :\",mul)"
   ]
  },
  {
   "cell_type": "code",
   "execution_count": 15,
   "id": "80fa0daa-5bc7-48a7-a917-87cef35fcc42",
   "metadata": {},
   "outputs": [
    {
     "name": "stdin",
     "output_type": "stream",
     "text": [
      "enter eletricity unit used 310\n"
     ]
    },
    {
     "name": "stdout",
     "output_type": "stream",
     "text": [
      "2250\n"
     ]
    }
   ],
   "source": [
    "#Q3=\n",
    "remaining=0\n",
    "unit=int(input(\"enter eletricity unit used\"))\n",
    "if unit<=100:\n",
    "    rem=unit*4.5\n",
    "elif unit>100 and unit<=200:\n",
    "    rem=450+(unit-100)*6\n",
    "elif unit>200 and unit<=300:\n",
    "    rem=450+600+(unit-200)*10\n",
    "elif unit>300 :\n",
    "    rem=450+600+1000+(unit-300)*20\n",
    "    \n",
    "print(rem)    "
   ]
  },
  {
   "cell_type": "code",
   "execution_count": null,
   "id": "66e0d909-4eab-4584-89d8-69b7a1435fb6",
   "metadata": {},
   "outputs": [],
   "source": [
    "#Q4=\n",
    "l1=[]\n",
    "l2=[]\n",
    "for i  in range(1,101,1):\n",
    "    cube=i*i*i\n",
    "    rem4=cube%4\n",
    "    rem5=cube%5\n",
    "    if rem4==0 or rem5==0:\n",
    "        f=1\n",
    "    else :\n",
    "        f=0\n",
    "    while f==1:\n",
    "        l1.append(i)\n",
    "    \n",
    "print(l1)\n",
    "\n",
    "    \n",
    "    "
   ]
  },
  {
   "cell_type": "code",
   "execution_count": 4,
   "id": "105975c9-5b09-418c-884a-21759614b896",
   "metadata": {},
   "outputs": [
    {
     "name": "stdout",
     "output_type": "stream",
     "text": [
      "11\n"
     ]
    }
   ],
   "source": [
    "string=\"I want to become a data scientist\"\n",
    "\n",
    "count=0\n",
    "for i in string:\n",
    "    \n",
    "    if i==\"a\" or i==\"e\" or i==\"i\" or i==\"o\" or i==\"u\":\n",
    "        count=count+1\n",
    "\n",
    "print(count)"
   ]
  },
  {
   "cell_type": "code",
   "execution_count": null,
   "id": "d4957091-1ba2-400c-b1f7-be5f2103d866",
   "metadata": {},
   "outputs": [],
   "source": []
  }
 ],
 "metadata": {
  "kernelspec": {
   "display_name": "Python 3 (ipykernel)",
   "language": "python",
   "name": "python3"
  },
  "language_info": {
   "codemirror_mode": {
    "name": "ipython",
    "version": 3
   },
   "file_extension": ".py",
   "mimetype": "text/x-python",
   "name": "python",
   "nbconvert_exporter": "python",
   "pygments_lexer": "ipython3",
   "version": "3.10.8"
  }
 },
 "nbformat": 4,
 "nbformat_minor": 5
}
