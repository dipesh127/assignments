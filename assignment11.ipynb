{
 "cells": [
  {
   "cell_type": "code",
   "execution_count": 1,
   "id": "f9c9bc5c-07be-48e3-9e08-b77b4f4d093c",
   "metadata": {},
   "outputs": [],
   "source": [
    "#Q1=\n",
    "#     In Python, we use the open() method to open files.\n",
    "#     The different modes of opening a files are:\n",
    "        \n",
    "#         1.Read Only (‘r’) :\n",
    "#             Open text file for reading. The handle is positioned at the beginning of the file. If the file does\n",
    "#             not exists, raises the I/O error. This is also the default mode in which a file is opened.\n",
    "#         2.Read and Write (‘r+’): \n",
    "#             Open the file for reading and writing. The handle is positioned at the beginning\n",
    "#             of the file. Raises I/O error if the file does not exist.\n",
    "#         3.Write Only (‘w’) :\n",
    "#             Open the file for writing. For the existing files, the data is truncated and over-written.\n",
    "#             The handle is positioned at the beginning of the file. Creates the file if the file does not exist.\n",
    "#         4.Write and Read (‘w+’) :\n",
    "#             Open the file for reading and writing. For an existing file, data is truncated and over-written.\n",
    "#             The handle is positioned at the beginning of the file.\n",
    "#         5.Append Only (‘a’):\n",
    "#             Open the file for writing. The file is created if it does not exist. The handle is positioned at the end\n",
    "#             of the file. The data being written will be inserted at the end, after the existing data.\n",
    "#         6.Append and Read (‘a+’) :\n",
    "#             Open the file for reading and writing. The file is created if it does not exist. The handle is positioned\n",
    "#             at the end of the file. The data being written will be inserted at the end, after the existing data."
   ]
  },
  {
   "cell_type": "code",
   "execution_count": 2,
   "id": "503f20d0-b54b-4731-b88e-754208faecab",
   "metadata": {},
   "outputs": [],
   "source": [
    "# Q2=\n",
    "#     The close() method closes an open file. You should always close your files, in some cases, due to buffering, \n",
    "#     changes made to a file may not show until you close the file.\n",
    "    \n",
    "#     It is important to close files you are working with as soon as you are finished with them. This minimizes the\n",
    "#     amount of user virtual machine resources required and helps keep shared files and directories available for other\n",
    "#     users. Closing a file means logically disconnecting it from the application program.\n",
    "    "
   ]
  },
  {
   "cell_type": "code",
   "execution_count": 6,
   "id": "52010824-eb3c-4c4f-b3a1-e534ff3e8ee5",
   "metadata": {},
   "outputs": [
    {
     "name": "stdout",
     "output_type": "stream",
     "text": [
      "I want to become a Data Scientist\n"
     ]
    }
   ],
   "source": [
    "#Q3=\n",
    "    \n",
    "f=open(\"text.txt\", \"a+\")\n",
    "f.write(\"I want to become a Data Scientist\")\n",
    "f.close()\n",
    "\n",
    "\n",
    "f=open(\"text.txt\", \"r\")\n",
    "contant=f.read()\n",
    "print(contant)"
   ]
  },
  {
   "cell_type": "code",
   "execution_count": 7,
   "id": "ab549742-ad54-4ece-abf9-92cacbf71c61",
   "metadata": {},
   "outputs": [],
   "source": [
    "# Q4=\n",
    "#     read():\n",
    "#         The read() method returns the specified number of bytes from the file. Default is -1 which means the whole file.\n",
    "    \n",
    "#     readline():\n",
    "#         The readline() method returns one line from the file. You can also specified how many bytes from the line to return, by using the size parameter.\n",
    "    \n",
    "#     readlines():\n",
    "#         The readlines() method returns a list containing each line in the file as a list item\n",
    "        \n",
    "        \n",
    "        "
   ]
  },
  {
   "cell_type": "code",
   "execution_count": 8,
   "id": "396c14bc-8dbb-4743-a562-a94acd694107",
   "metadata": {},
   "outputs": [],
   "source": [
    "#Q5=\n",
    "#     The with statement works with the open() function to open a file. Unlike open() where you have to close the file with the\n",
    "#     close() method, the with statement closes the file for you without you telling it to. This is because the with statement \n",
    "#     calls 2 built-in methods behind\n",
    "    \n",
    "#     The advantage of using with clause is that any file that is opened using this clause is closed automatically, once the \n",
    "#     control comes outside the with clause."
   ]
  },
  {
   "cell_type": "code",
   "execution_count": 9,
   "id": "7b8bc71d-bd45-4a4d-afb6-f09c2d8cfe7f",
   "metadata": {},
   "outputs": [
    {
     "name": "stdout",
     "output_type": "stream",
     "text": [
      "write method\n",
      "write methodwriteline\n"
     ]
    }
   ],
   "source": [
    "#Q6=\n",
    "\n",
    "#     write():\n",
    "#         The write() method writes a specified text to the file. Where the specified text will be inserted depends on the file mode and stream position. \"a\" : The text will be inserted at the current file stream position, default at the end of the file.\n",
    "#     example:\n",
    "f = open(\"file1.txt\", \"a\")\n",
    "f.write(\"write method\")\n",
    "f.close()\n",
    "\n",
    "f = open(\"file1.txt\", \"r\")\n",
    "print(f.read())        \n",
    "        \n",
    "        \n",
    "        \n",
    "#     writelines():\n",
    "#         The writelines() method writes the items of a list to the file.\n",
    "#     example:\n",
    "f = open(\"file2.txt\", \"a\")\n",
    "f.writelines([\"write method\", \"writeline\"])\n",
    "f.close()\n",
    "\n",
    "f = open(\"file2.txt\", \"r\")\n",
    "print(f.read())\n",
    "    \n",
    "        "
   ]
  },
  {
   "cell_type": "code",
   "execution_count": null,
   "id": "e52c114d-9fd8-4798-8f06-75b8ec433c3a",
   "metadata": {},
   "outputs": [],
   "source": []
  }
 ],
 "metadata": {
  "kernelspec": {
   "display_name": "Python 3 (ipykernel)",
   "language": "python",
   "name": "python3"
  },
  "language_info": {
   "codemirror_mode": {
    "name": "ipython",
    "version": 3
   },
   "file_extension": ".py",
   "mimetype": "text/x-python",
   "name": "python",
   "nbconvert_exporter": "python",
   "pygments_lexer": "ipython3",
   "version": "3.10.8"
  }
 },
 "nbformat": 4,
 "nbformat_minor": 5
}
