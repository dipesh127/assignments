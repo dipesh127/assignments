{
 "cells": [
  {
   "cell_type": "code",
   "execution_count": 24,
   "id": "51b750c5-86dc-4be5-b2d1-460079427eec",
   "metadata": {},
   "outputs": [
    {
     "name": "stdin",
     "output_type": "stream",
     "text": [
      "enter marks 70\n"
     ]
    },
    {
     "name": "stdout",
     "output_type": "stream",
     "text": [
      "C\n"
     ]
    }
   ],
   "source": [
    "#Q1 =\n",
    "mark=int(input(\"enter marks\"))\n",
    "if mark>90:\n",
    "    print(\"A\")\n",
    "elif mark>80 and mark<=90:\n",
    "    print(\"B\")\n",
    "elif mark>=60 and mark<=80:\n",
    "    print(\"C\")\n",
    "else:\n",
    "    print(\"D\")\n",
    "    "
   ]
  },
  {
   "cell_type": "code",
   "execution_count": 28,
   "id": "cf967b74-3897-48cd-871e-f15acd6e948e",
   "metadata": {},
   "outputs": [
    {
     "name": "stdin",
     "output_type": "stream",
     "text": [
      "enter the cost of bike 30000\n"
     ]
    },
    {
     "name": "stdout",
     "output_type": "stream",
     "text": [
      "the tax of bike is  1500.0\n"
     ]
    }
   ],
   "source": [
    "#Q2= \n",
    "cost_bike=int(input(\"enter the cost of bike\"))\n",
    "if cost_bike>100000:\n",
    "    rate=15/100\n",
    "elif cost_bike>50000 and cost_bike<=100000:\n",
    "    rate=10/100\n",
    "else:\n",
    "    rate=5/100\n",
    "\n",
    "tax=cost_bike*rate\n",
    "print(\"the tax of bike is \" ,tax)"
   ]
  },
  {
   "cell_type": "code",
   "execution_count": 33,
   "id": "2930c5a0-ef12-4189-9296-576e27f201c2",
   "metadata": {},
   "outputs": [
    {
     "name": "stdin",
     "output_type": "stream",
     "text": [
      "enter number to find the momentum of :\n",
      "1 for Delhi\n",
      "2 for Agra\n",
      "3 for jaipur 1\n"
     ]
    },
    {
     "name": "stdout",
     "output_type": "stream",
     "text": [
      "Red Fort\n"
     ]
    }
   ],
   "source": [
    "#Q3= \n",
    "val=int(input(\"enter number to find the monument of :\\n1 for Delhi\\n2 for Agra\\n3 for jaipur\"))\n",
    "if val==1:\n",
    "    print(\"Red Fort\")\n",
    "elif val==2:\n",
    "    print(\"Maj Mahal\")\n",
    "elif val==3:\n",
    "    print(\"Jal Mahal\")\n",
    "else:\n",
    "    print(\"error\")\n",
    "\n"
   ]
  },
  {
   "cell_type": "code",
   "execution_count": 38,
   "id": "a2002002-4a34-4a88-b67c-3c2039c3cd5b",
   "metadata": {},
   "outputs": [
    {
     "name": "stdin",
     "output_type": "stream",
     "text": [
      "enter a number 300\n"
     ]
    },
    {
     "name": "stdout",
     "output_type": "stream",
     "text": [
      "4\n"
     ]
    }
   ],
   "source": [
    "#Q4=\n",
    "divi=int(input(\"enter a number\"))\n",
    "num=0\n",
    "while( divi>=10):\n",
    "    num=num+1\n",
    "    divi=divi/3\n",
    "\n",
    "print(num)\n",
    "    \n"
   ]
  },
  {
   "cell_type": "code",
   "execution_count": 1,
   "id": "318508d2-0c5d-4b6a-bbdc-f37fc327800f",
   "metadata": {},
   "outputs": [
    {
     "data": {
      "text/plain": [
       "'A \"While\" Loop is used to repeat a specific block of code an unknown number of times, until a condition is met.\\n    For example, if we want to ask a user for a number between 1 and 10, we don\\'t know how many times the user may \\n    enter a larger number, so we keep asking \"while the number is not between 1 and 10\".'"
      ]
     },
     "execution_count": 1,
     "metadata": {},
     "output_type": "execute_result"
    }
   ],
   "source": [
    "#Q5=\n",
    "\"\"\"A \"While\" Loop is used to repeat a specific block of code an unknown number of times, until a condition is met.\n",
    "    For example, if we want to ask a user for a number between 1 and 10, we don't know how many times the user may \n",
    "    enter a larger number, so we keep asking \"while the number is not between 1 and 10\".\"\"\""
   ]
  },
  {
   "cell_type": "code",
   "execution_count": 17,
   "id": "7e304c72-c371-4db6-8790-442f20b43875",
   "metadata": {},
   "outputs": [
    {
     "name": "stdout",
     "output_type": "stream",
     "text": [
      "\n",
      "1 \n",
      "2 2 \n",
      "3 3 3 \n",
      "4 4 4 4 \n",
      "5 5 5 5 5 \n",
      "5 5 5 5 5 \n",
      "4 4 4 4 \n",
      "3 3 3 \n",
      "2 2 \n",
      "1 \n",
      "0 1 2 3 4 5 \n",
      "0 1 2 3 4 \n",
      "0 1 2 3 \n",
      "0 1 2 \n",
      "0 1 \n"
     ]
    }
   ],
   "source": [
    "#Q6\n",
    "#program 1\n",
    "row1 = 6\n",
    "for i in range(row1):\n",
    "    for j in range(i):\n",
    "        print(i, end=' ')\n",
    "    print('')\n",
    "    \n",
    "\n",
    "#program 2\n",
    "row2 = 5\n",
    "# reverse for loop from 5 to 0\n",
    "for i in range(row2, 0, -1):\n",
    "    for j in range(1, i + 1):\n",
    "        print(i, end=' ')\n",
    "    print('\\r')\n",
    "    \n",
    "#program 3   \n",
    "row3 = 5\n",
    "for i in range(row3, 0, -1):\n",
    "    for j in range(0, i + 1):\n",
    "        print(j, end=' ')\n",
    "    print(\"\\r\")\n",
    "\n"
   ]
  },
  {
   "cell_type": "code",
   "execution_count": 21,
   "id": "1c6888b8-83f1-4bee-a7e6-2664d98ce726",
   "metadata": {},
   "outputs": [
    {
     "name": "stdout",
     "output_type": "stream",
     "text": [
      "10\n",
      "9\n",
      "8\n",
      "7\n",
      "6\n",
      "5\n",
      "4\n",
      "3\n",
      "2\n",
      "1\n"
     ]
    }
   ],
   "source": [
    "#Q7=\n",
    "i=10\n",
    "while i>=1:\n",
    "    print(i)\n",
    "    i=i-1\n",
    "    "
   ]
  },
  {
   "cell_type": "code",
   "execution_count": null,
   "id": "ca58eaf0-010c-49ab-9e32-9f93602bf33c",
   "metadata": {},
   "outputs": [],
   "source": []
  }
 ],
 "metadata": {
  "kernelspec": {
   "display_name": "Python 3 (ipykernel)",
   "language": "python",
   "name": "python3"
  },
  "language_info": {
   "codemirror_mode": {
    "name": "ipython",
    "version": 3
   },
   "file_extension": ".py",
   "mimetype": "text/x-python",
   "name": "python",
   "nbconvert_exporter": "python",
   "pygments_lexer": "ipython3",
   "version": "3.10.8"
  }
 },
 "nbformat": 4,
 "nbformat_minor": 5
}
