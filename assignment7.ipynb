{
 "cells": [
  {
   "cell_type": "code",
   "execution_count": 1,
   "id": "60178fa5-348f-4c03-bc19-358f44ea5761",
   "metadata": {},
   "outputs": [
    {
     "name": "stdout",
     "output_type": "stream",
     "text": [
      "[1, 2, 3, 4, 44, 55, 66, 34, 56, 78, 89, 34, 1, 2, 3, 56, 34, 55, 67, 78, 89, 45, 22, 61, 34, 1, 4]\n",
      "4134711838987085478833841242112000\n"
     ]
    }
   ],
   "source": [
    "#Q1=\n",
    "\n",
    "from functools import reduce\n",
    "list1 = [1,2,3,4, [44,55,66, True], False, (34,56,78,89,34), {1,2,3,3,2,1}, {1:34, \"key2\": [55, 67, 78, 89], 4: (45,\n",
    "22, 61, 34)}, [56, 'data science'], 'Machine Learning']\n",
    "\n",
    "y=list(filter(lambda x:type(x)==int,list1))\n",
    "z=list(filter(lambda x:type(x)==list or type(x)==set or type(x)==tuple,list1))\n",
    "v=list(filter(lambda x:type(x)==dict,list1)) \n",
    "d=list(v[0].values())\n",
    "z.append(d)\n",
    "for i in z:\n",
    "    if type(i)==int:\n",
    "        y.append(i)\n",
    "    elif type(i)==list or type(i)==set or type(i)==tuple:\n",
    "        for b in i :\n",
    "            if type(b)==int:\n",
    "                y.append(b)\n",
    "            elif type(b) == list or type(b)== set or type(b)==tuple:\n",
    "                for h in b:\n",
    "                    if type(h)== int:\n",
    "                        y.append(h)\n",
    "           \n",
    "\n",
    "\n",
    "    \n",
    "    \n",
    "c=list(v[0].keys())\n",
    "for i in c:\n",
    "    if type(i)==int:\n",
    "        y.append(i)\n",
    "        \n",
    "        \n",
    "redu=reduce(lambda x,k:x*k,y)\n",
    "\n",
    "print(y)\n",
    "\n",
    "print(redu)"
   ]
  },
  {
   "cell_type": "code",
   "execution_count": 10,
   "id": "e31f6ff6-2457-48b0-b49d-44d985dc2dbc",
   "metadata": {},
   "outputs": [
    {
     "name": "stdout",
     "output_type": "stream",
     "text": [
      "2 w0nt t2 b1c2m1 0 d0t0 sc21nt2st\n"
     ]
    }
   ],
   "source": [
    "#2=\n",
    "num='I want to become a Data Scientist'\n",
    "n=num.lower()\n",
    "dict = {\"a\": \"z\",\n",
    "        \"b\": \"y\",\n",
    "        \"c\": \"z\",\n",
    "        \"e\": \"\",\n",
    "        \"u\": \"3\"}\n",
    " \n",
    "for i in dict:\n",
    "    n = n.replace(i, dict[i])\n",
    "    \n",
    "print(n)\n",
    " "
   ]
  },
  {
   "cell_type": "code",
   "execution_count": null,
   "id": "1adbca42-e210-4f5d-b14e-c5f32f2b35c1",
   "metadata": {},
   "outputs": [],
   "source": []
  },
  {
   "cell_type": "code",
   "execution_count": null,
   "id": "13782cda-4677-4fc2-b711-fea092f65033",
   "metadata": {},
   "outputs": [],
   "source": []
  }
 ],
 "metadata": {
  "kernelspec": {
   "display_name": "Python 3 (ipykernel)",
   "language": "python",
   "name": "python3"
  },
  "language_info": {
   "codemirror_mode": {
    "name": "ipython",
    "version": 3
   },
   "file_extension": ".py",
   "mimetype": "text/x-python",
   "name": "python",
   "nbconvert_exporter": "python",
   "pygments_lexer": "ipython3",
   "version": "3.10.8"
  }
 },
 "nbformat": 4,
 "nbformat_minor": 5
}
