{
 "cells": [
  {
   "cell_type": "code",
   "execution_count": 1,
   "id": "1800b730-1723-474e-99a0-72c07a3f5b84",
   "metadata": {},
   "outputs": [],
   "source": [
    "# Q1=\n",
    "\n",
    "# Web scraping is data scraping used for extracting data from websites.\n",
    "#  the three areas are:\n",
    "#  1.price monitoring\n",
    "#  2.machine learning model\n",
    "#  3.trackng information"
   ]
  },
  {
   "cell_type": "code",
   "execution_count": 2,
   "id": "8c9c0b2f-d917-4412-9db5-873d6d9d5525",
   "metadata": {},
   "outputs": [],
   "source": [
    "# Q2=\n",
    "\n",
    "# The different methods used for web scriping are:\n",
    "# 1.beautifulSoup\n",
    "# 2.scrapy\n",
    "# 3.selenium\n",
    "# 4.request\n",
    "# 5.urllib3\n",
    "# 6.lxml\n",
    "# 7.mechanicalsoup"
   ]
  },
  {
   "cell_type": "code",
   "execution_count": 3,
   "id": "826ee726-7f3a-47d8-99bc-7d824e712b47",
   "metadata": {},
   "outputs": [],
   "source": [
    "# Q3=\n",
    "\n",
    "# Beautiful Soup is a Python package for parsing HTML and XML documents.It creates a parse tree \n",
    "# for parsed pages that can be used to extract data from HTML, which is useful for web scraping.\n",
    "\n"
   ]
  },
  {
   "cell_type": "code",
   "execution_count": 4,
   "id": "b7cd4b93-d7ed-470d-902b-b4e6c7caa358",
   "metadata": {},
   "outputs": [],
   "source": [
    "# Q4=\n",
    "\n",
    "# flask is used for to parse our collected data and display it as HTML in a new HTML file."
   ]
  },
  {
   "cell_type": "code",
   "execution_count": null,
   "id": "dc14b9c4-11f7-4adf-ad19-b00a425077ec",
   "metadata": {},
   "outputs": [],
   "source": [
    "# Q5=\n",
    "\n",
    "# codepipline \n",
    "# \tAWS CodePipeline is a continuous delivery service you can use to model, visualize, and automate the steps required to release your software. \n",
    "\n",
    "#  beanstack\n",
    "# \tElastic Beanstalk automatically launches an environment and creates and configures the AWS resources needed to run your code\n",
    "\n"
   ]
  }
 ],
 "metadata": {
  "kernelspec": {
   "display_name": "Python 3 (ipykernel)",
   "language": "python",
   "name": "python3"
  },
  "language_info": {
   "codemirror_mode": {
    "name": "ipython",
    "version": 3
   },
   "file_extension": ".py",
   "mimetype": "text/x-python",
   "name": "python",
   "nbconvert_exporter": "python",
   "pygments_lexer": "ipython3",
   "version": "3.10.8"
  }
 },
 "nbformat": 4,
 "nbformat_minor": 5
}
