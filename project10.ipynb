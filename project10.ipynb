{
 "cells": [
  {
   "cell_type": "code",
   "execution_count": 21,
   "id": "300c543e-a714-4247-8c71-23a60d325d31",
   "metadata": {},
   "outputs": [
    {
     "name": "stdout",
     "output_type": "stream",
     "text": [
      "the name of the vehicle is  nano \n",
      "its max speed is  80 \n",
      "its average speed is  40\n"
     ]
    }
   ],
   "source": [
    "#Q1=\n",
    "\n",
    "class vehicle:\n",
    "    def __init__(self,name_of_vehicle,max_speed,average_of_vehicle):\n",
    "        self.name_of_vehicle= name_of_vehicle\n",
    "        self.max_speed= max_speed\n",
    "        self.average_of_vehicle=average_of_vehicle\n",
    "        \n",
    "    \n",
    "        \n",
    "        \n",
    "vehicle1=vehicle(\"nano\",80,40)\n",
    "print(\"the name of the vehicle is \",vehicle1.name_of_vehicle,\"\\nits max speed is \",vehicle1.max_speed,\"\\nits average speed is \",vehicle1.average_of_vehicle)\n",
    "\n"
   ]
  },
  {
   "cell_type": "code",
   "execution_count": 1,
   "id": "2a429e8a-4f3e-4a11-b540-b1783eb8a6fa",
   "metadata": {},
   "outputs": [
    {
     "name": "stdout",
     "output_type": "stream",
     "text": [
      "The seating capacity of a Toyota Fortuner is 20 passengers\n"
     ]
    }
   ],
   "source": [
    "#Q2=\n",
    "class Vehicle:\n",
    "    def __init__(self, name):\n",
    "        self.name = name\n",
    "\n",
    "\n",
    "    def seating_capacity(self, capacity):\n",
    "        return f\"The seating capacity of a {self.name} is {capacity} passengers\"\n",
    "\n",
    "class car(Vehicle):\n",
    "    pass\n",
    "\n",
    "toyota_car = car(\"Toyota Fortuner\")\n",
    "print(toyota_car.seating_capacity(20))"
   ]
  },
  {
   "cell_type": "code",
   "execution_count": 2,
   "id": "1d1e1515-1211-4dd1-b97f-4576344105dd",
   "metadata": {},
   "outputs": [
    {
     "name": "stdout",
     "output_type": "stream",
     "text": [
      "In Class2\n"
     ]
    }
   ],
   "source": [
    "#Q3=\n",
    "    # When a class is derived from more than one base class it is called multiple Inheritance. \n",
    "    # The derived class inherits all the features of the base case.\n",
    "    # example:\n",
    "\n",
    "class Class1:\n",
    "    def m(self):\n",
    "        print(\"In Class1\")\n",
    "       \n",
    "class Class2(Class1):\n",
    "    def m(self):\n",
    "        print(\"In Class2\")\n",
    " \n",
    "class Class3(Class1):\n",
    "    def m(self):\n",
    "        print(\"In Class3\") \n",
    "        \n",
    "class Class4(Class2, Class3):\n",
    "    pass  \n",
    "     \n",
    "obj = Class4()\n",
    "obj.m()"
   ]
  },
  {
   "cell_type": "code",
   "execution_count": 10,
   "id": "a271dda4-8372-4676-b27f-289db53b09eb",
   "metadata": {},
   "outputs": [
    {
     "name": "stdout",
     "output_type": "stream",
     "text": [
      "original text : hellow\n",
      "Change text to:  bye\n"
     ]
    }
   ],
   "source": [
    "#Q4=\n",
    "    # Getter are the methods used in Object-Oriented Programming (OOPS) which helps to access the private attributes from a class.\n",
    "    # Setter are the methods used in OOPS feature which helps to set the value to private attributes in a class.\n",
    "    \n",
    "    \n",
    "class Label:\n",
    "    def __init__(self, text):\n",
    "        self._text = text\n",
    "        \n",
    "\n",
    "    def get_text(self):\n",
    "        return self._text\n",
    "\n",
    "    def set_text(self, value):\n",
    "        self._text = value\n",
    "\n",
    "\n",
    "        \n",
    "        \n",
    "\n",
    "label = Label(\"hellow\")\n",
    "print(\"original text :\",label.get_text())\n",
    "\n",
    "\n",
    "label.set_text(\"bye\")\n",
    "\n",
    "print(\"Change text to: \",label.get_text())\n",
    "\n",
    "\n",
    "\n",
    "        \n",
    "        \n",
    "        "
   ]
  },
  {
   "cell_type": "code",
   "execution_count": 15,
   "id": "ae181953-a4e3-43e5-bec4-102a71950ee9",
   "metadata": {},
   "outputs": [
    {
     "name": "stdout",
     "output_type": "stream",
     "text": [
      "Inside Parent\n",
      "Inside Child\n"
     ]
    }
   ],
   "source": [
    "#Q5=\n",
    "#      Method overriding is a feature of object-oriented programming languages where the subclass or child class can provide the program with\n",
    "#     specific characteristics or a specific implementation process of data provided that are already defined in the parent class or superclass.\n",
    "    \n",
    "    \n",
    "    # Defining parent class\n",
    "class Parent():\n",
    "      \n",
    "    # Constructor\n",
    "    def __init__(self):\n",
    "        self.value = \"Inside Parent\"\n",
    "          \n",
    "    # Parent's show method\n",
    "    def show(self):\n",
    "        print(self.value)\n",
    "          \n",
    "# Defining child class\n",
    "class Child(Parent):\n",
    "      \n",
    "    # Constructor\n",
    "    def __init__(self):\n",
    "        self.value = \"Inside Child\"\n",
    "          \n",
    "    # Child's show method\n",
    "    def show(self):\n",
    "        print(self.value)\n",
    "          \n",
    "          \n",
    "# Driver's code\n",
    "obj1 = Parent()\n",
    "obj2 = Child()\n",
    "  \n",
    "obj1.show()\n",
    "obj2.show()"
   ]
  },
  {
   "cell_type": "code",
   "execution_count": null,
   "id": "053b07ef-7dcd-4e99-bfbe-ef94e573d9cb",
   "metadata": {},
   "outputs": [],
   "source": []
  }
 ],
 "metadata": {
  "kernelspec": {
   "display_name": "Python 3 (ipykernel)",
   "language": "python",
   "name": "python3"
  },
  "language_info": {
   "codemirror_mode": {
    "name": "ipython",
    "version": 3
   },
   "file_extension": ".py",
   "mimetype": "text/x-python",
   "name": "python",
   "nbconvert_exporter": "python",
   "pygments_lexer": "ipython3",
   "version": "3.10.8"
  }
 },
 "nbformat": 4,
 "nbformat_minor": 5
}
