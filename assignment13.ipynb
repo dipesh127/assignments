{
 "cells": [
  {
   "cell_type": "code",
   "execution_count": 1,
   "id": "073947d4-c6cc-4b21-a9ee-d760939ea698",
   "metadata": {},
   "outputs": [],
   "source": [
    "# #Q1=\n",
    "#     Multithreading is a threading technique in Python programming to run multiple threads concurrently\n",
    "#      by rapidly switching between threads with a CPU help (called context switching).\n",
    "#     Threading in python is used to run multiple threads (tasks, function calls) at the same time.\n",
    "#     For multithreading thread module is used."
   ]
  },
  {
   "cell_type": "code",
   "execution_count": 2,
   "id": "cf9e4d6b-cfe5-43b2-bfda-9aa93c79a06b",
   "metadata": {},
   "outputs": [],
   "source": [
    "# Q2=\n",
    "#     Python threading allows you to have different parts of your program run concurrently and can simplify your design.\n",
    "    \n",
    "#     uses for :\n",
    "        \n",
    "#     activeCount():returns the number of thread objects that are active threading.\n",
    "#     currentThread():Returns the number of thread objects in the caller's thread control.\n",
    "#     enumerate():converts a data collection object into an enumerate object.\n",
    "        "
   ]
  },
  {
   "cell_type": "code",
   "execution_count": 3,
   "id": "2760c2c9-d69f-4005-8341-1cefcc7e761e",
   "metadata": {},
   "outputs": [],
   "source": [
    "# Q3=\n",
    "#     run():\n",
    "#         The standard run() method invokes the callable object passed to the object's constructor as the target argument,\n",
    "#            if any, with positional and keyword arguments taken from the args and kwargs arguments, respectively.\n",
    "        \n",
    "#     start():\n",
    "#         The start() method of thread class is used to begin the execution of thread. The result of this method is two\n",
    "#        threads that are running concurrently: the current thread (which returns from the call to the start method) and the other\n",
    "#        thread (which executes its run method).\n",
    "     \n",
    "#     join():\n",
    "#         The join() method takes all items in an iterable and joins them into one string. A string must be specified as the separator.\n",
    "     \n",
    "#     isAlive():\n",
    "#         is_alive() method is an inbuilt method of the Thread class of the threading module in Python. It uses a Thread object,\n",
    "#        and checks whether that thread is alive or not, ie, it is still running or not. This method returns True before the run() starts\n",
    " #       until just after the run() method is executed\n",
    "        "
   ]
  },
  {
   "cell_type": "code",
   "execution_count": 23,
   "id": "5cb5ba20-b972-4155-b5f4-35d891bda6b9",
   "metadata": {},
   "outputs": [
    {
     "name": "stdout",
     "output_type": "stream",
     "text": [
      "list of squares: [1, 4, 9, 16, 25, 36, 49, 64, 81, 100]\n",
      "list of cube: [1, 8, 27, 64, 125, 216, 343, 512, 729, 1000]\n"
     ]
    }
   ],
   "source": [
    "#Q4=\n",
    "\n",
    "\n",
    "import threading \n",
    "l1=[]\n",
    "l2=[]\n",
    "def calculate_squares():\n",
    "    for i in range(1,11):\n",
    "        l1.append(i*i)\n",
    "        \n",
    "        \n",
    "def calculate_cubes(): \n",
    "\tfor i in range(1,11): \n",
    "\t\tl2.append(i*i*i) \n",
    "\n",
    "thread1 = threading.Thread(target=calculate_squares) \n",
    "thread2 = threading.Thread(target=calculate_cubes) \n",
    "\n",
    "thread1.start() \n",
    "thread2.start() \n",
    "\n",
    "thread1.join() \n",
    "thread2.join() \n",
    "print(\"list of squares:\",l1)\n",
    "print(\"list of cube:\",l2)\n",
    "\n",
    "\n"
   ]
  },
  {
   "cell_type": "code",
   "execution_count": 5,
   "id": "faa44f78-5d7e-4215-b177-5d3b6abecf13",
   "metadata": {},
   "outputs": [],
   "source": [
    "# #Q5=\n",
    "\n",
    "#     advantages: Multithreading in Python streamlines the efficient utilization of resources as the threads share\n",
    "#        the same memory and data space. It also allows the concurrent appearance of multiple tasks and reduces the response\n",
    "#        time. This improves the performance\n",
    "    \n",
    "#     disadvantage:Python doesn't support multi-threading because Python on the Cpython interpreter does not support\n",
    "#    true multi-core execution via multithreading. However, Python does have a threading library. The GIL does not\n",
    "#    prevent threading\n",
    "    \n",
    "    \n"
   ]
  },
  {
   "cell_type": "code",
   "execution_count": null,
   "id": "d7aa666a-014c-4110-9e59-0ba74795dbca",
   "metadata": {},
   "outputs": [],
   "source": [
    "# #Q6=\n",
    "\n",
    "#     A deadlock is a concurrency failure mode where a thread or threads wait for a condition that never occurs. The result\n",
    "#     is that the deadlock threads are unable to progress and the program is stuck or frozen and must be terminated forcefully.\n",
    "    \n",
    "    \n",
    "#     A race condition is a bug in concurrency programming. It is a failure case where the behavior of the program is dependent\n",
    "#     upon the order of execution by two or more threads. This means, the behavior of the program will not be predictable, \n",
    "#     possibly changing each time it is run.\n",
    "    \n",
    "    "
   ]
  }
 ],
 "metadata": {
  "kernelspec": {
   "display_name": "Python 3 (ipykernel)",
   "language": "python",
   "name": "python3"
  },
  "language_info": {
   "codemirror_mode": {
    "name": "ipython",
    "version": 3
   },
   "file_extension": ".py",
   "mimetype": "text/x-python",
   "name": "python",
   "nbconvert_exporter": "python",
   "pygments_lexer": "ipython3",
   "version": "3.10.8"
  }
 },
 "nbformat": 4,
 "nbformat_minor": 5
}
