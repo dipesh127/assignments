{
 "cells": [
  {
   "cell_type": "code",
   "execution_count": 9,
   "id": "4bd6dbeb-3374-47a6-a57f-43f0cf67063c",
   "metadata": {},
   "outputs": [
    {
     "name": "stdout",
     "output_type": "stream",
     "text": [
      "<class 'pandas.core.series.Series'>\n",
      "0     4\n",
      "1     8\n",
      "2    15\n",
      "3    16\n",
      "4    23\n",
      "5    42\n",
      "Name: numbers, dtype: int64\n"
     ]
    }
   ],
   "source": [
    "# Q1=\n",
    "\n",
    "import pandas as pd\n",
    "\n",
    "data = {'numbers': [4,8,15,16,23,42]}\n",
    "# creating dataframe using dictionary\n",
    "df = pd.DataFrame(data)\n",
    "\n",
    "print(type(df['numbers']))\n",
    "print(df['numbers'])\n"
   ]
  },
  {
   "cell_type": "code",
   "execution_count": 10,
   "id": "71464d88-1775-4e86-88dd-cd5821b22e8e",
   "metadata": {},
   "outputs": [
    {
     "name": "stdout",
     "output_type": "stream",
     "text": [
      "0    dipseh\n",
      "1       ram\n",
      "2     shyam\n",
      "3      hari\n",
      "dtype: object\n"
     ]
    }
   ],
   "source": [
    "# Q2=\n",
    "\n",
    "import pandas as pd\n",
    " \n",
    "lst = ['dipseh', 'ram', 'shyam', 'hari']\n",
    "              \n",
    "# create Pandas Series \n",
    "x = pd.Series(lst)\n",
    "  \n",
    "# print the Series\n",
    "print(x)"
   ]
  },
  {
   "cell_type": "code",
   "execution_count": 20,
   "id": "4d634bbb-ddd1-488b-b89c-bb7e5647b1f6",
   "metadata": {},
   "outputs": [
    {
     "name": "stdout",
     "output_type": "stream",
     "text": [
      "     name  age  gender\n",
      "0   Alica   25  female\n",
      "1     bob   30    male\n",
      "2  claire   27  female\n"
     ]
    }
   ],
   "source": [
    "# Q3=\n",
    "\n",
    "import pandas as pd\n",
    "\n",
    "\n",
    "data = {'name': ['Alica','bob','claire'],\n",
    "       'age':[25,30,27],'gender':['female','male','female']}\n",
    "# creating dataframe using dictionary\n",
    "df = pd.DataFrame(data)\n",
    "\n",
    "print(df)"
   ]
  },
  {
   "cell_type": "code",
   "execution_count": 23,
   "id": "7585d310-1116-415b-a743-7c3f82d10415",
   "metadata": {},
   "outputs": [
    {
     "name": "stdout",
     "output_type": "stream",
     "text": [
      "<class 'pandas.core.frame.DataFrame'>\n",
      "     name  age  gender\n",
      "0   Alica   25  female\n",
      "1     bob   30    male\n",
      "2  claire   27  female\n",
      "<class 'pandas.core.series.Series'>\n",
      "0     Alica\n",
      "1       bob\n",
      "2    claire\n",
      "Name: name, dtype: object\n"
     ]
    }
   ],
   "source": [
    "# Q4=\n",
    "\n",
    "# A Pandas DataFrame is a 2 dimensional data structure, like a 2 dimensional array, or a table with rows and columns.\n",
    "# difference between panda series and dataframe are:\n",
    "#     1.panda series are one dimentional array where as panda frame is a two dimentional array\n",
    "#     2.panda series is of homogenious where as panda frame is of hectrogenious datatypes\n",
    "#     3.series is immutable where as frame is muitable.\n",
    "# example\n",
    "import pandas as pd\n",
    "\n",
    "\n",
    "data = {'name': ['Alica','bob','claire'],\n",
    "       'age':[25,30,27],'gender':['female','male','female']}\n",
    "# creating dataframe using dictionary\n",
    "df = pd.DataFrame(data)\n",
    "print(type(df))\n",
    "print(df)\n",
    "\n",
    "\n",
    "print(type(df['name']))\n",
    "print(df['name'])"
   ]
  },
  {
   "cell_type": "code",
   "execution_count": 27,
   "id": "4c78f047-2e0b-43e5-a253-233d50a46e34",
   "metadata": {},
   "outputs": [
    {
     "name": "stdout",
     "output_type": "stream",
     "text": [
      "    name  age  gender  salary\n",
      "0  Alica   25  female   25000\n",
      "1    bob   30    male   22000\n",
      "     name  age  gender  salary\n",
      "2  claire   27  female   34000\n"
     ]
    }
   ],
   "source": [
    "# # Q5=\n",
    "\n",
    "# some common functions to manuplate data in a pandas dataframe are:\n",
    "#     1.head()\n",
    "#     2.tail()\n",
    "    \n",
    "# example\n",
    "\n",
    "import pandas as pd\n",
    "\n",
    "\n",
    "data = {'name': ['Alica','bob','claire'],\n",
    "       'age':[25,30,27],'gender':['female','male','female']\n",
    "       ,'salary':[25000,22000,34000]}\n",
    "# creating dataframe using dictionary\n",
    "df = pd.DataFrame(data)\n",
    "\n",
    "print(df.head(2))\n",
    "print(df.tail(1))\n"
   ]
  },
  {
   "cell_type": "code",
   "execution_count": 28,
   "id": "7a2b7a2a-3e51-476a-92a2-693dc00c51a9",
   "metadata": {},
   "outputs": [],
   "source": [
    "# Q6=\n",
    "\n",
    "#  a Panel can be illustrated as a container of a DataFrame. In Panel Data and size are mutable.\n"
   ]
  },
  {
   "cell_type": "code",
   "execution_count": 29,
   "id": "25dd732e-3122-4b40-be4a-23225b0c40cc",
   "metadata": {},
   "outputs": [
    {
     "name": "stdout",
     "output_type": "stream",
     "text": [
      "        0   1       2\n",
      "0  dipesh  22   10000\n",
      "1     ram  23   23000\n",
      "2    hari  34  100000\n"
     ]
    }
   ],
   "source": [
    "# Q7=\n",
    "\n",
    "import pandas as pd\n",
    "# Create pandas Series\n",
    "name = pd.Series([\"dipesh\",\"ram\",\"hari\"])\n",
    "age = pd.Series([22,23,34])\n",
    "salary  = pd.Series([10000,23000,100000])\n",
    "\n",
    "# It also supports to combine multiple series.\n",
    "df=pd.concat([name,age,salary],axis=1)\n",
    "print(df)"
   ]
  },
  {
   "cell_type": "code",
   "execution_count": null,
   "id": "3c96b4e5-d093-4941-930e-7dbdc85b1f8e",
   "metadata": {},
   "outputs": [],
   "source": []
  }
 ],
 "metadata": {
  "kernelspec": {
   "display_name": "Python 3 (ipykernel)",
   "language": "python",
   "name": "python3"
  },
  "language_info": {
   "codemirror_mode": {
    "name": "ipython",
    "version": 3
   },
   "file_extension": ".py",
   "mimetype": "text/x-python",
   "name": "python",
   "nbconvert_exporter": "python",
   "pygments_lexer": "ipython3",
   "version": "3.10.8"
  }
 },
 "nbformat": 4,
 "nbformat_minor": 5
}
