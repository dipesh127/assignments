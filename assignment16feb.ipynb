{
 "cells": [
  {
   "cell_type": "code",
   "execution_count": 1,
   "id": "bc0650a6-a0c3-48f7-8b2a-ce2f2628ae9b",
   "metadata": {},
   "outputs": [],
   "source": [
    "# #Q1=\n",
    "#     Databases are the collection of data in order to store and retrieve data.\n",
    "    \n",
    "    \n",
    "#     SQL and NoSQL differ in whether they are relational (SQL) or non-relational (NoSQL), whether their schemas are predefined or dynamic, how they scale, the type of data they include and whether they are more fit for multi-row transactions or unstructured data\n",
    "    "
   ]
  },
  {
   "cell_type": "code",
   "execution_count": 1,
   "id": "e7222009-2453-425e-bd41-1ea28be2916a",
   "metadata": {},
   "outputs": [],
   "source": [
    "# #Q2=\n",
    "#     A data definition language (DDL) is a computer language used to create and modify the structure of database objects in a database\n",
    "    \n",
    "#     CREATE: This command is used to create the database or its objects (like table, index, function, views, store procedure, and triggers)\n",
    "#     DROP: This command is used to delete objects from the database.\n",
    "#     ALTER: This is used to alter the structure of the database.\n",
    "#     TRUNCATE command is used to delete the complete data from the table.\n",
    "        "
   ]
  },
  {
   "cell_type": "code",
   "execution_count": 2,
   "id": "4da123ac-f9d0-416b-b4b3-bb28c93e0c60",
   "metadata": {},
   "outputs": [],
   "source": [
    "# #Q3=\n",
    "\n",
    "#     A DML (data manipulation language) refers to a computer programming language that allows you to add (insert), \n",
    "#     delete (delete), and alter (update) data in a database.\n",
    "    \n",
    "#     The insert command is used for inserting one or more rows into a database table with specified table column values.\n",
    "    \n",
    "\n",
    "#     The UPDATE statement is used to modify the existing records in a table.\n",
    "    \n",
    "    \n",
    "#     The DELETE statement is used to delete existing records in a table.\n",
    "    "
   ]
  },
  {
   "cell_type": "code",
   "execution_count": 3,
   "id": "97353ee2-2cfb-4c65-b6e7-0fa7bd011561",
   "metadata": {},
   "outputs": [],
   "source": [
    "#Q4=\n",
    "\n",
    "    # DQL is a portion of a SQL statement that allows you to get and organise data from a database.\n",
    "    \n",
    "\n",
    "\n",
    "\n",
    "#     An SQL SELECT statement retrieves records from a database table according to clauses (for example, FROM and WHERE ) that specify criteria."
   ]
  },
  {
   "cell_type": "code",
   "execution_count": 4,
   "id": "92422717-b6c7-46be-bc3e-acc0417464cc",
   "metadata": {},
   "outputs": [],
   "source": [
    "# #Q5=\n",
    "\n",
    "#     A primary key generally focuses on the uniqueness of the table. It assures the value in the specific column is unique. \n",
    "    \n",
    "#     A foreign key is generally used to build a relationship between the two tables.\n",
    "    \n",
    "    "
   ]
  },
  {
   "cell_type": "code",
   "execution_count": null,
   "id": "8676b2a4-b55b-4e6b-a138-0fa1c5bb26c3",
   "metadata": {},
   "outputs": [],
   "source": [
    "#Q6=\n",
    "\n",
    "import mysql.connector\n",
    "# import mysql.connector\n",
    "#create user 'user'@'%' identified by 'password'\n",
    "mydb = mysql.connector.connect(\n",
    "  host=\"localhost\",\n",
    "  user=\"abc\",\n",
    "  password=\"password\"\n",
    ")\n",
    "print(mydb)\n",
    "mycursor = mydb.cursor()\n",
    "mycursor.execute(\"SHOW DATABASES\")\n",
    "for x in mycursor:\n",
    "  print(x)\n",
    "\n",
    "\n",
    "\n",
    "#     Cursors are often used to highlight text or objects on the screen so that they can be selected\n",
    "\n",
    "#     The Execute method executes the query, SQL statement or procedure specified in the CommandText property of the Command object.\n"
   ]
  },
  {
   "cell_type": "code",
   "execution_count": null,
   "id": "39a40b1d-8bdd-4f18-8884-7a3b33c9f9df",
   "metadata": {},
   "outputs": [],
   "source": [
    "\n",
    "\n",
    "# Q7=\n",
    "\n",
    "# The order in which the clauses in queries are executed is as follows:\n",
    "\n",
    "# 1. FROM/JOIN\n",
    "\n",
    "# 2. WHERE\n",
    "\n",
    "# 3. GROUP BY\n",
    "\n",
    "# 4. HAVING\n",
    "\n",
    "# 5. SELECT\n",
    "\n",
    "# 6. ORDER BY\n",
    "\n",
    "# 7. LIMIT/OFFSET"
   ]
  }
 ],
 "metadata": {
  "kernelspec": {
   "display_name": "Python 3 (ipykernel)",
   "language": "python",
   "name": "python3"
  },
  "language_info": {
   "codemirror_mode": {
    "name": "ipython",
    "version": 3
   },
   "file_extension": ".py",
   "mimetype": "text/x-python",
   "name": "python",
   "nbconvert_exporter": "python",
   "pygments_lexer": "ipython3",
   "version": "3.10.8"
  },
  "toc-showcode": false,
  "toc-showmarkdowntxt": false
 },
 "nbformat": 4,
 "nbformat_minor": 5
}
