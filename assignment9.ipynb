{
 "cells": [
  {
   "cell_type": "code",
   "execution_count": 1,
   "id": "c61da976-dd2c-4a77-8822-6e2cd9ba8649",
   "metadata": {},
   "outputs": [],
   "source": [
    "#Q1\n",
    "    # Abstraction is the process of hiding the internal details of an application from the outer world.\n",
    "    # example:You can start a car by turning the key or pressing the start button. You don't need to\n",
    "    # know how the engine is getting started, what all components your car has. The car internal implementation\n",
    "    # and complex logic is completely hidden from the user."
   ]
  },
  {
   "cell_type": "code",
   "execution_count": 2,
   "id": "30f57f92-795d-4a4e-b081-23b84e895a98",
   "metadata": {},
   "outputs": [],
   "source": [
    "# Q2=\n",
    "#     Definition\n",
    "#     Abstraction is hiding the details and implementation of the code.\n",
    "#     Encapsulation is hiding the data and controlling the visibility of the code.\n",
    "    \n",
    "#     Phase\n",
    "#     Abstraction is a design level process.\n",
    "#     Encapsulation is an implementation level process.\n",
    "\n",
    "#     Pivotal Ability\n",
    "#     Abstraction is concerned about what a class instance can do, instead of the implementation of the class.\n",
    "#     Encapsulation helps in data binding and control over maintaining the transparency of the data.\n",
    "\n",
    "#     Use Case\n",
    "#     Abstraction is a design level process and it is used to reduce the complexity at the designing stage of \n",
    "#     a project.\n",
    "#     Encapsulation is an implementation level process, and it is used to provide privacy and maintain control\n",
    "#     over the transparency of data at the implementation stage of a project.\n",
    "\n",
    "#     How to Implement\n",
    "#     Abstraction can be achieved using class and interfaces in java.\n",
    "#     Encapsulation is also implemented using classes and the control over data privacy is obtained by \n",
    "#     specifying access specifiers like protected, public, private.\n",
    "\n",
    "#     Focus:\n",
    "#     The prominent difference between Encapsulation and Abstraction lies in the focus. Abstraction mainly \n",
    "#     focuses on what must be done, whereas encapsulation mainly focuses on how it must be done. Understanding\n",
    "#     this difference between Abstraction and Encapsulation in Python helps you to design solutions faster.\n",
    "    \n",
    "    \n",
    "#     example:\n",
    "#     Abstraction is used in mobile phones’ GUI. When you click on the icons, abstraction allows them to perform \n",
    "#     specific functions. Let’s look at the encapsulation example to clarify the Encapsulation vs Abstraction. \n",
    "#     After the icon is clicked, the encapsulation works in the backend to guide the user on the next steps."
   ]
  },
  {
   "cell_type": "code",
   "execution_count": 3,
   "id": "88cc7b50-3f6d-44f0-a690-661fa464bedf",
   "metadata": {},
   "outputs": [],
   "source": [
    "#Q3=\n",
    "#    The 'abc' module in Python library provides the infrastructure for defining custom abstract base classes."
   ]
  },
  {
   "cell_type": "code",
   "execution_count": 4,
   "id": "dea872e4-e1e4-4c4b-b80f-da4428586af5",
   "metadata": {},
   "outputs": [],
   "source": [
    "#4=\n",
    "#    Data Abstraction in Python can be achieved through creating abstract classes and inheriting them later."
   ]
  },
  {
   "cell_type": "code",
   "execution_count": null,
   "id": "ad638f3d-ca98-45ac-b11c-6e4510dc49db",
   "metadata": {},
   "outputs": [],
   "source": [
    "#5=\n",
    "    # Abstract classes cannot be instantiated, but they can be subclassed. When an abstract class is subclassed,\n",
    "    # the subclass usually provides implementations for all of the abstract methods in its parent class. However,\n",
    "    # if it does not, then the subclass must also be declared abstract ."
   ]
  }
 ],
 "metadata": {
  "kernelspec": {
   "display_name": "Python 3 (ipykernel)",
   "language": "python",
   "name": "python3"
  },
  "language_info": {
   "codemirror_mode": {
    "name": "ipython",
    "version": 3
   },
   "file_extension": ".py",
   "mimetype": "text/x-python",
   "name": "python",
   "nbconvert_exporter": "python",
   "pygments_lexer": "ipython3",
   "version": "3.10.8"
  }
 },
 "nbformat": 4,
 "nbformat_minor": 5
}
