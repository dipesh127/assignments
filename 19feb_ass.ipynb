{
 "cells": [
  {
   "cell_type": "code",
   "execution_count": 1,
   "id": "02d43a41-c25c-4229-8fdc-8ee1683b637a",
   "metadata": {},
   "outputs": [],
   "source": [
    "# Q1=\n",
    "\n",
    "#  Flask is a web framework that provides libraries to build lightweight web applications in python.\n",
    "# Advantages:\n",
    "# \t1.It is a lightweight framework that offers hassle-free development.\n",
    "# \t2.Provide flexibility to the developer to experiment with their modules or architecture.\n",
    "# \t3.It is suitable for small projects.\n",
    "# \t4.Offers a built-in development server and fast debugger.\n",
    "# \t5.Easily scalable for the applications.\n",
    "# \t6.Support for secure cookies."
   ]
  },
  {
   "cell_type": "code",
   "execution_count": null,
   "id": "74a91d3f-3490-4dbc-a4a7-b4d8e19ba71e",
   "metadata": {},
   "outputs": [],
   "source": [
    "# Q2=\n",
    "from flask import Flask\n",
    "\n",
    "app = Flask(__name__)\n",
    "\n",
    "@app.route(\"/\")\n",
    "def detials():\n",
    "    return \"Hello World!!\"\n",
    "    \n",
    "\n",
    "if __name__==\"__main__\":\n",
    "    app.run(host=\"0.0.0.0\")\n"
   ]
  },
  {
   "cell_type": "code",
   "execution_count": null,
   "id": "3a5b12ae-85a2-4e07-b63a-add444ef34b8",
   "metadata": {
    "tags": []
   },
   "outputs": [],
   "source": [
    "\n",
    "# Q3=\n",
    "\n",
    "#     App routing is the technique used to map the specific URL with the associated function intended to perform\n",
    "#  some task. The Latest Web frameworks use the routing technique to help users remember application URLs\n",
    "    "
   ]
  },
  {
   "cell_type": "code",
   "execution_count": null,
   "id": "3e800215-c5e4-4a8c-abbe-9675880f19ae",
   "metadata": {},
   "outputs": [
    {
     "name": "stdout",
     "output_type": "stream",
     "text": [
      " * Serving Flask app '__main__'\n",
      " * Debug mode: off\n"
     ]
    },
    {
     "name": "stderr",
     "output_type": "stream",
     "text": [
      "WARNING: This is a development server. Do not use it in a production deployment. Use a production WSGI server instead.\n",
      " * Running on all addresses (0.0.0.0)\n",
      " * Running on http://127.0.0.1:5000\n",
      " * Running on http://172.18.0.7:5000\n",
      "Press CTRL+C to quit\n",
      "172.18.0.2 - - [27/May/2023 18:51:32] \"GET / HTTP/1.1\" 200 -\n",
      "172.18.0.2 - - [27/May/2023 18:51:33] \"GET /favicon.ico HTTP/1.1\" 404 -\n",
      "172.18.0.2 - - [27/May/2023 18:51:58] \"GET /welcome HTTP/1.1\" 200 -\n"
     ]
    }
   ],
   "source": [
    "# Q4=\n",
    "\n",
    "from flask import Flask\n",
    "\n",
    "app = Flask(__name__)\n",
    "\n",
    "@app.route(\"/\")\n",
    "def detials():\n",
    "    return '''Company Name: ABC Corporation</br>\n",
    "            Location: India</br>\n",
    "            Contact Detail: 999-999-9999'''\n",
    "    \n",
    "\n",
    "\n",
    "@app.route(\"/welcome\")\n",
    "def welcome_to():\n",
    "    return \"<h1>Welcome to ABC Corporation</h1>\"\n",
    "\n",
    "if __name__==\"__main__\":\n",
    "    app.run(host=\"0.0.0.0\")\n"
   ]
  },
  {
   "cell_type": "code",
   "execution_count": null,
   "id": "563b77ba-ce18-4521-88f8-a9ea30bbcc50",
   "metadata": {},
   "outputs": [],
   "source": [
    "# Q5=\n",
    "\n",
    "# The url_for() function is very useful for dynamically building a URL for a specific function.\n",
    "from flask import url_for, Flask\n",
    "appFlask = Flask(__name__)\n",
    "@appFlask.route('/home')\n",
    "def home():\n",
    "   return 'We are in Home Page!'\n",
    "with appFlask.test_request_context():\n",
    "    print(url_for('home'))"
   ]
  },
  {
   "cell_type": "code",
   "execution_count": null,
   "id": "b9c0a230-c5b6-4117-af3e-fa1572493192",
   "metadata": {},
   "outputs": [],
   "source": []
  }
 ],
 "metadata": {
  "kernelspec": {
   "display_name": "Python 3 (ipykernel)",
   "language": "python",
   "name": "python3"
  },
  "language_info": {
   "codemirror_mode": {
    "name": "ipython",
    "version": 3
   },
   "file_extension": ".py",
   "mimetype": "text/x-python",
   "name": "python",
   "nbconvert_exporter": "python",
   "pygments_lexer": "ipython3",
   "version": "3.10.8"
  }
 },
 "nbformat": 4,
 "nbformat_minor": 5
}
