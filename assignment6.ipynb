{
 "cells": [
  {
   "cell_type": "code",
   "execution_count": 1,
   "id": "34e76e82-5375-4a68-8289-333b562caa20",
   "metadata": {},
   "outputs": [],
   "source": [
    "#Q1=\n",
    "#     Classes are user-defined data types that act as the blueprint for individual objects, attributes and methods.For example,\n",
    "#     your bicycle is just one of many bicycles in the world. Using object-oriented terminology, we say that your bicycle object \n",
    "#     is an instance. of the class of objects known as bicycles.\n",
    "    \n",
    "#     An object in OOPS is nothing but a self-contained component which consists of methods and properties to make a particular \n",
    "#     type of data useful. For example color name, table, bag, barking. When you send a message to an object, you are asking the \n",
    "#     object to invoke or execute one of its methods as defined in the class."
   ]
  },
  {
   "cell_type": "code",
   "execution_count": 3,
   "id": "3b4fffa0-0a8e-45f5-94ce-97aeb64044b7",
   "metadata": {},
   "outputs": [],
   "source": [
    "#Q2=\n",
    "    # The four pillors of opps are as follows:\n",
    "    #     1. inheritance\n",
    "    #     2.polymorphism\n",
    "    #     3. encapsulation\n",
    "    #     4. abstraction"
   ]
  },
  {
   "cell_type": "code",
   "execution_count": 6,
   "id": "12b5a6bd-0589-428a-935f-c1a3dcfbc267",
   "metadata": {},
   "outputs": [
    {
     "name": "stdout",
     "output_type": "stream",
     "text": [
      "John\n",
      "36\n"
     ]
    }
   ],
   "source": [
    "#Q3=\n",
    "    # The __init__ method lets the class initialize the object's attributes and serves no other purpose.\n",
    "    # example:\n",
    "    #     Create a class named Person, use the __init__() function to assign values for name and age:\n",
    "class Person:\n",
    "      def __init__(self, name, age):\n",
    "            self.name = name\n",
    "            self.age = age\n",
    "\n",
    "p1 = Person(\"John\", 36)\n",
    "\n",
    "print(p1.name)\n",
    "print(p1.age)"
   ]
  },
  {
   "cell_type": "code",
   "execution_count": null,
   "id": "d158b397-1112-48e6-ad8e-b36824af206c",
   "metadata": {},
   "outputs": [],
   "source": [
    "#Q4=\n",
    "    The self variable is used to represent the instance of the class which is often used in object-oriented programming."
   ]
  },
  {
   "cell_type": "code",
   "execution_count": 10,
   "id": "db59dce5-afee-4c8e-9e74-cde3da146a07",
   "metadata": {},
   "outputs": [],
   "source": [
    "#Q5=\n",
    "#     Inheritance relationship defines the classes that inherit from other classes as derived, subclass, or sub-type classes. Base class remains to be the source from which a subclass inherits.\n",
    "    \n",
    "#     Types of inheritance: There are five types of inheritance in python programming:\n",
    "#     1. Single inheritance\n",
    "#     2. Multiple inheritances\n",
    "#     3. Multilevel inheritance\n",
    "#     4. Hierarchical inheritance\n",
    "#     5. Hybrid inheritance"
   ]
  },
  {
   "cell_type": "code",
   "execution_count": 8,
   "id": "45182d66-b340-487c-9e10-4a63fcb4e2bd",
   "metadata": {},
   "outputs": [
    {
     "name": "stdout",
     "output_type": "stream",
     "text": [
      "Amazon is an Online Ecommerce Store\n",
      "Ebay is an Online Store\n"
     ]
    }
   ],
   "source": [
    "#Example of single_inheitance\n",
    "\n",
    "class Brands:               #parent_class\n",
    "    brand_name_1 = \"Amazon\"\n",
    "    brand_name_2 = \"Ebay\"\n",
    "    \n",
    "class Products(Brands):       #child_class\n",
    "    prod_1 = \"Online Ecommerce Store\"\n",
    "    prod_2 = \"Online Store\"\n",
    "    \n",
    "obj_1 = Products()          #Object_creation\n",
    "print(obj_1.brand_name_1+\" is an \"+obj_1.prod_1)\n",
    "print(obj_1.brand_name_2+\" is an \"+obj_1.prod_2)\n",
    "    "
   ]
  },
  {
   "cell_type": "code",
   "execution_count": 13,
   "id": "82939b8d-78eb-4481-9c57-03da1895b2b3",
   "metadata": {},
   "outputs": [
    {
     "name": "stdout",
     "output_type": "stream",
     "text": [
      "Amazon is an Online Ecommerce Store\n",
      "Ebay is an Online Store\n",
      "OLX is an Online Buy Sell Store\n"
     ]
    }
   ],
   "source": [
    "#example_of_multiple_inheritance\n",
    "\n",
    "class Brands:               #parent_class\n",
    "    brand_name_1 = \"Amazon\"\n",
    "    brand_name_2 = \"Ebay\"\n",
    "    brand_name_3 = \"OLX\"\n",
    "    \n",
    "class Products:            #child_class\n",
    "    prod_1 = \"Online Ecommerce Store\"\n",
    "    prod_2 = \"Online Store\"\n",
    "    prod_3 = \"Online Buy Sell Store\"\n",
    "\n",
    "class Popularity(Brands,Products):\n",
    "    prod_1_popularity = 100\n",
    "    prod_2_popularity = 70\n",
    "    prod_3_popularity = 60\n",
    "    \n",
    "obj_1 = Popularity()          #Object_creation\n",
    "print(obj_1.brand_name_1+\" is an \"+obj_1.prod_1)\n",
    "print(obj_1.brand_name_2+\" is an \"+obj_1.prod_2)\n",
    "print(obj_1.brand_name_3+\" is an \"+obj_1.prod_3)"
   ]
  },
  {
   "cell_type": "code",
   "execution_count": 11,
   "id": "0602d2dd-77b6-46bc-992c-8f9430b760a2",
   "metadata": {},
   "outputs": [
    {
     "name": "stdout",
     "output_type": "stream",
     "text": [
      "Amazon is an Online Ecommerce Store popularity of 100\n",
      "Ebay is an Online Store popularity of 70\n",
      "OLX is an Online Buy Sell Store popularity of 60\n"
     ]
    }
   ],
   "source": [
    "#example_of_multilevel_inheritance\n",
    "\n",
    "class Brands:                      #parent_class\n",
    "    brand_name_1 = \"Amazon\"\n",
    "    brand_name_2 = \"Ebay\"\n",
    "    brand_name_3 = \"OLX\"\n",
    "    \n",
    "class Products(Brands):            #child_class\n",
    "    prod_1 = \"Online Ecommerce Store\"\n",
    "    prod_2 = \"Online Store\"\n",
    "    prod_3 = \"Online Buy Sell Store\"\n",
    "\n",
    "class Popularity(Products):        #grand_child_class\n",
    "    prod_1_popularity = 100\n",
    "    prod_2_popularity = 70\n",
    "    prod_3_popularity = 60\n",
    "    \n",
    "    \n",
    "obj_1 = Popularity()          #Object_creation\n",
    "print(obj_1.brand_name_1+\" is an \"+obj_1.prod_1+\" popularity of \"+str(obj_1.prod_1_popularity))\n",
    "print(obj_1.brand_name_2+\" is an \"+obj_1.prod_2+\" popularity of \"+str(obj_1.prod_2_popularity))\n",
    "print(obj_1.brand_name_3+\" is an \"+obj_1.prod_3+\" popularity of \"+str(obj_1.prod_3_popularity))\n"
   ]
  },
  {
   "cell_type": "code",
   "execution_count": 14,
   "id": "a698508a-b24f-4f7e-8782-0397e50dd41e",
   "metadata": {},
   "outputs": [
    {
     "name": "stdout",
     "output_type": "stream",
     "text": [
      "Amazon is an Online Ecommerce Store\n",
      "Amazon is an Online Ecommerce Store\n",
      "Amazon is an Online Ecommerce Store\n"
     ]
    }
   ],
   "source": [
    "#example_of_hierarchical_inheritance\n",
    "\n",
    "class Brands:                      #parent_class\n",
    "    brand_name_1 = \"Amazon\"\n",
    "    brand_name_2 = \"Ebay\"\n",
    "    brand_name_3 = \"OLX\"\n",
    "    \n",
    "class Products(Brands):            #child_class\n",
    "    prod_1 = \"Online Ecommerce Store\"\n",
    "    prod_2 = \"Online Store\"\n",
    "    prod_3 = \"Online Buy Sell Store\"\n",
    "\n",
    "class Popularity(Brands):        #grand_child_class\n",
    "    prod_1_popularity = 100\n",
    "    prod_2_popularity = 70\n",
    "    prod_3_popularity = 60\n",
    "\n",
    "class Value(Brands):\n",
    "    prod_1_value = \"Excellent Value\"\n",
    "    prod_2_value = \"Better Value\"\n",
    "    prod_3_value = \"Good Value\"\n",
    "    \n",
    "obj_1 = Products()          #Object_creation\n",
    "obj_2 = Popularity()\n",
    "obj_3 = Value()\n",
    "print(obj_1.brand_name_1+\" is an \"+obj_1.prod_1)\n",
    "print(obj_1.brand_name_1+\" is an \"+obj_1.prod_1)\n",
    "print(obj_1.brand_name_1+\" is an \"+obj_1.prod_1)\n"
   ]
  },
  {
   "cell_type": "code",
   "execution_count": 17,
   "id": "f0d02d51-77e9-45c8-b6d2-78b6e6f6fd60",
   "metadata": {},
   "outputs": [
    {
     "name": "stdout",
     "output_type": "stream",
     "text": [
      "This is Student class inheriting PC and Laptop\n",
      "This is Mouse class inheriting Laptop class\n"
     ]
    }
   ],
   "source": [
    "#Example_Hybrid_inheritance\n",
    "class PC:\n",
    "    def fun1(self):\n",
    "        print(\"This is PC class\")\n",
    "\n",
    "class Laptop(PC):\n",
    "    def fun2(self):\n",
    "        print(\"This is Laptop class inheriting PC class\")\n",
    "\n",
    "class Mouse(Laptop):\n",
    "    def fun3(self):\n",
    "        print(\"This is Mouse class inheriting Laptop class\")\n",
    "\n",
    "class Student(Mouse, Laptop):\n",
    "    def fun4(self):\n",
    "        print(\"This is Student class inheriting PC and Laptop\")\n",
    "\n",
    "# Driver’s code\n",
    "obj = Student()\n",
    "obj1 = Mouse()\n",
    "obj.fun4()\n",
    "obj.fun3()"
   ]
  },
  {
   "cell_type": "code",
   "execution_count": null,
   "id": "6f3fd180-6bda-43c0-b8f3-16ce0e1004e6",
   "metadata": {},
   "outputs": [],
   "source": []
  }
 ],
 "metadata": {
  "kernelspec": {
   "display_name": "Python 3 (ipykernel)",
   "language": "python",
   "name": "python3"
  },
  "language_info": {
   "codemirror_mode": {
    "name": "ipython",
    "version": 3
   },
   "file_extension": ".py",
   "mimetype": "text/x-python",
   "name": "python",
   "nbconvert_exporter": "python",
   "pygments_lexer": "ipython3",
   "version": "3.10.8"
  }
 },
 "nbformat": 4,
 "nbformat_minor": 5
}
