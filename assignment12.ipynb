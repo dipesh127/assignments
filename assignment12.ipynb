{
 "cells": [
  {
   "cell_type": "code",
   "execution_count": 1,
   "id": "672da62f-65e8-4282-887e-240ba58998f3",
   "metadata": {},
   "outputs": [],
   "source": [
    "# #Q1=\n",
    "#     An exception is an event, which occurs during the execution of a program that disrupts the normal flow \n",
    "#     of the program's instructions\n",
    "    \n",
    "#     An Exception is an event that occurs during the program execution and disrupts the normal flow of the \n",
    "#     program's execution. Errors mostly happen at compile-time like syntax error; however it can happen at \n",
    "#     runtime as well. Whereas an Exception occurs at runtime\n",
    "    \n",
    "    "
   ]
  },
  {
   "cell_type": "code",
   "execution_count": 2,
   "id": "386e535d-7177-43f1-8b9f-64b5b21d88f9",
   "metadata": {},
   "outputs": [],
   "source": [
    "# #Q2=\n",
    "#     When an exception occurred, if you don't handle it, the program terminates abruptly and the code past\n",
    "#     the line that caused the exception will not get executed.\n",
    "    \n",
    "#     example, we are trying to divide a number by 0 . Here, this code generates an exception. To handle the exception,\n",
    "#     we have put the code, 5 / 0 inside the try block. Now when an exception occurs, the rest of the code inside the try block is skipped.\n",
    "    "
   ]
  },
  {
   "cell_type": "code",
   "execution_count": 6,
   "id": "cc8210f2-d170-4a59-8a1f-f7b56c7fe406",
   "metadata": {},
   "outputs": [
    {
     "name": "stdout",
     "output_type": "stream",
     "text": [
      "there is a problem\n"
     ]
    }
   ],
   "source": [
    "# Q3=\n",
    "#     The try and except block in Python is used to catch and handle exceptions.\n",
    "    \n",
    "try:\n",
    "    open(\"text12.txt\",'r')\n",
    "except Exception as e:\n",
    "    print(\"there is a problem\")\n",
    "    \n",
    "    "
   ]
  },
  {
   "cell_type": "code",
   "execution_count": 6,
   "id": "3de3e87e-b78d-4ccd-8893-8676c05b6226",
   "metadata": {},
   "outputs": [
    {
     "name": "stdin",
     "output_type": "stream",
     "text": [
      "enter age -2\n"
     ]
    },
    {
     "name": "stdout",
     "output_type": "stream",
     "text": [
      "age can't be negative \n",
      "the age is -2\n"
     ]
    }
   ],
   "source": [
    "# Q4=\n",
    "#     try and else:\n",
    "#         The try block lets you test a block of code for errors. The except block lets you handle the error. The else block lets you execute code when there is no error\n",
    "\n",
    "#     finally:\n",
    "#         It defines a block of code to run when the try... except...else block is final. The finally block will be executed no matter if the try block raises an error or not. \n",
    "    \n",
    "#     raise:\n",
    "#         The raise keyword is used to raise an exception. You can define what kind of error to raise, and the text to print to the user.\n",
    "        \n",
    "\n",
    "        \n",
    "class validateage(Exception):\n",
    "    \n",
    "    def __init__(self , msg) : \n",
    "        self.msg = msg\n",
    "\n",
    "        \n",
    "def validaetage(age) : \n",
    "    if age < 0 :\n",
    "        raise validateage(\"age can't be negative \" )\n",
    "\n",
    "\n",
    "try:\n",
    "    age=int(input('enter age'))\n",
    "    validaetage(age)\n",
    "except validateage as e:\n",
    "    print(e)\n",
    "\n",
    "finally:\n",
    "    print(\"the age is \"+ str(age))\n"
   ]
  },
  {
   "cell_type": "code",
   "execution_count": 7,
   "id": "d6e5c18a-4692-4c6f-8ca4-6558764c21bb",
   "metadata": {},
   "outputs": [
    {
     "name": "stdin",
     "output_type": "stream",
     "text": [
      "enter age -2\n"
     ]
    },
    {
     "name": "stdout",
     "output_type": "stream",
     "text": [
      "age can't be negative \n"
     ]
    }
   ],
   "source": [
    "#Q5=\n",
    "\n",
    "# In Python, we can define custom exceptions by creating a new class that is derived from the built-in Exception class\n",
    "\n",
    "    \n",
    "# Built-in exceptions offer information about Python-related problems, and custom exceptions will add information about\n",
    "# project-related problems. That way, you can design your code (and traceback, if an exception is raised) in a way that \n",
    "# combines Python code with the language of the project.\n",
    "\n",
    "\n",
    "# example:\n",
    "\n",
    "\n",
    "class validateage(Exception):\n",
    "    \n",
    "    def __init__(self , msg) : \n",
    "        self.msg = msg\n",
    "\n",
    "        \n",
    "def validaetage(age) : \n",
    "    if age < 0 :\n",
    "        raise validateage(\"age can't be negative \" )\n",
    "\n",
    "\n",
    "try:\n",
    "    age=int(input('enter age'))\n",
    "    validaetage(age)\n",
    "except validateage as e:\n",
    "    print(e)"
   ]
  },
  {
   "cell_type": "code",
   "execution_count": 8,
   "id": "d3335274-618a-4b9d-a7eb-815abdbb0733",
   "metadata": {},
   "outputs": [
    {
     "name": "stdin",
     "output_type": "stream",
     "text": [
      "enter your age 12\n"
     ]
    },
    {
     "name": "stdout",
     "output_type": "stream",
     "text": [
      "voting age can't be less then 18 \n"
     ]
    }
   ],
   "source": [
    "#Q6=\n",
    "\n",
    "# to check the validation for voting :\n",
    "class validateage(Exception):\n",
    "    \n",
    "    def __init__(self , msg) : \n",
    "        self.msg = msg\n",
    "\n",
    "        \n",
    "def validaetage(age) : \n",
    "    if age < 18 :\n",
    "        raise validateage(\"voting age can't be less then 18 \" )\n",
    "    elif age > 100 : \n",
    "        raise validateage(\"enterd age is very very high \" )\n",
    "    else :\n",
    "        print(\"age is valid\" )\n",
    "        \n",
    "\n",
    "try :\n",
    "    age = int(input(\"enter your age\" ))\n",
    "    validaetage(age)\n",
    "except validateage as e :\n",
    "    print(e)\n"
   ]
  },
  {
   "cell_type": "code",
   "execution_count": null,
   "id": "24fc1d0c-6ca1-4828-8171-9067f8021131",
   "metadata": {},
   "outputs": [],
   "source": []
  }
 ],
 "metadata": {
  "kernelspec": {
   "display_name": "Python 3 (ipykernel)",
   "language": "python",
   "name": "python3"
  },
  "language_info": {
   "codemirror_mode": {
    "name": "ipython",
    "version": 3
   },
   "file_extension": ".py",
   "mimetype": "text/x-python",
   "name": "python",
   "nbconvert_exporter": "python",
   "pygments_lexer": "ipython3",
   "version": "3.10.8"
  }
 },
 "nbformat": 4,
 "nbformat_minor": 5
}
